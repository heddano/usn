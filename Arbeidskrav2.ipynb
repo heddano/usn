{
 "cells": [
  {
   "cell_type": "markdown",
   "id": "0722edd0-3aa9-4c6f-9a14-5019d0e7ba7e",
   "metadata": {},
   "source": [
    "Oppg 1) Du skal her lage et program som skal starter med alder = int(input('Hvilket år er du født? ') )\n",
    "Programmet skal så regne ut hvor gammel personen blir nå i løpet av år 2024 og skrive\n",
    "svaret til skjerm med passende tekst.\n"
   ]
  },
  {
   "cell_type": "code",
   "execution_count": 2,
   "id": "cd8871b3-fb31-4878-902b-2972ab1194d7",
   "metadata": {},
   "outputs": [
    {
     "name": "stdin",
     "output_type": "stream",
     "text": [
      "Hvilket år er du født?  1990\n"
     ]
    },
    {
     "name": "stdout",
     "output_type": "stream",
     "text": [
      "personen er  34 år.\n"
     ]
    }
   ],
   "source": [
    "alder = int(input('Hvilket år er du født? ') )\n",
    "fødselsår = 2024 - alder\n",
    "print (\"Personen er\", fødselsår, \"år i 2024.\")"
   ]
  },
  {
   "cell_type": "markdown",
   "id": "dc7f38d4-bcfa-4241-bd61-a30cb7abce7f",
   "metadata": {},
   "source": [
    "Oppg 2) Det skal arrangeres en klassefest og man antar at hver elev spiser 1/4 pizza. \n",
    "Lag et program som tar inn antall elever fra konsollen ved\n",
    "antall_elever = int(input('Skriv inn antall elever:' ))\n",
    "Programmet skal så regne ut hvor mange pizzaer som skal handles inn til festen og skrive\n",
    "svaret til skjerm. Merk, man kan ikke kjøpe 4 og en kvart pizza på butikken (man må da kjøpe 5).\n",
    "Hint1: Gir programmet ditt et fornuftig svar hvis det f.eks er 21 elever i klassen?\n",
    "Hint2: Det er ikke vanlig å si/skrive: ‘Det må handles inn 6.0 pizzaer til festen’. Hvordan kan\n",
    "sikre at antall pizzaer skrives ut som et heltall (ikke desimaltall)?"
   ]
  },
  {
   "cell_type": "code",
   "execution_count": 8,
   "id": "caf50976-8e18-4bf7-acd0-1743937dbc06",
   "metadata": {},
   "outputs": [
    {
     "name": "stdin",
     "output_type": "stream",
     "text": [
      "Skriv inn antall elever: 21\n"
     ]
    },
    {
     "name": "stdout",
     "output_type": "stream",
     "text": [
      "Det må handles inn 6 pizzaer til festen.\n"
     ]
    }
   ],
   "source": [
    "import numpy as np\n",
    "antall_elever = int(input('Skriv inn antall elever:' ))\n",
    "pizza_per_elev = 0.25\n",
    "antall_pizzaer = np.ceil(antall_elever * pizza_per_elev)\n",
    "print(\"Det må handles inn\", int(antall_pizzaer), \"pizzaer til festen.\")"
   ]
  },
  {
   "cell_type": "markdown",
   "id": "94401d73-7fdc-4728-a5a0-e26d85bd433e",
   "metadata": {},
   "source": [
    "Oppg 3) Lag et program med en funksjon som regner om fra grader til radianer.\n",
    "Programmet skal starte med:\n",
    "import numpy as np\n",
    "v_grad = float(input('Skriv inn gradtallet:' ))\n",
    "Radiantallet til vinkelen regnes så ut ved følgende formel: v_rad = v_grad*np.pi/180\n",
    "Resultatet v_rad skrives til skjerm med passende tekst og verdi.\n",
    "Merk: np.pi er en ferdiglaget funksjon som gir verdien 3.1415...."
   ]
  },
  {
   "cell_type": "code",
   "execution_count": 50,
   "id": "a40f7289-c00a-467a-afe8-c8aa1f53d3dc",
   "metadata": {},
   "outputs": [
    {
     "name": "stdin",
     "output_type": "stream",
     "text": [
      "Skriv inn gradtallet: 180\n"
     ]
    },
    {
     "name": "stdout",
     "output_type": "stream",
     "text": [
      "gradtallet 180.0 tilsvarer  3.141592653589793 radianer, eller 1.0 pi.\n"
     ]
    }
   ],
   "source": [
    "import numpy as np\n",
    "v_grad = float(input('Skriv inn gradtallet:' ))\n",
    "v_rad = v_grad*np.pi/180\n",
    "vrad_pi = v_rad / np.pi\n",
    "print(\"gradtallet\", v_grad, \"tilsvarer \", v_rad, \"radianer, eller\", vrad_pi,\"pi.\")"
   ]
  },
  {
   "cell_type": "markdown",
   "id": "31910301-8fd9-4e50-8daa-87d3a7828e3c",
   "metadata": {},
   "source": [
    "Oppg 4)\n",
    "a) Opprett en dictionary som gitt under. Dictionaryen har ulike land som nøkkel (Keys)\n",
    "og gir info om hovedstaden i landet og antall innbyggere i mill. i hovedstaden.\n",
    "b) Lag et program som ber brukeren skrive inn et land (eksempelvis England).\n",
    "Programmet skal på bakgrunn av dette skrive ut følgende setning:\n",
    "London er hovedstaden i England og det er 8.982 mill. innbyggere i London\n",
    "c) Lag et program som ber brukeren skrive inn info om et nytt land (altså et land som\n",
    "ikke allerede finnes i dictionaryen data). Videre skal brukeren oppgi hovedstad og\n",
    "antall innbyggere for det «nye» landet. Programmet skal så utvide/oppdatere\n",
    "dictionaryen med den nye informasjonen. Dictionaryen data skrives så til skjerm.\n",
    "\n",
    "se bilde"
   ]
  },
  {
   "cell_type": "code",
   "execution_count": 36,
   "id": "671ecdc3-80ad-4148-baba-c121e9cf170e",
   "metadata": {},
   "outputs": [
    {
     "name": "stdin",
     "output_type": "stream",
     "text": [
      "Skriv inn landet: Norge\n"
     ]
    },
    {
     "name": "stdout",
     "output_type": "stream",
     "text": [
      "Oslo er hovedstaden i Norge og det er 0.634 mill. innbyggere i Oslo\n"
     ]
    }
   ],
   "source": [
    "data = {\n",
    "    \"Norge\": [\"Oslo\", 0.634],\n",
    "    \"England\": [\"London\", 8.982],\n",
    "    \"Frankrike\": [\"Paris\", 2.161],\n",
    "    \"Italia\": [\"Roma\", 2.873]\n",
    "}\n",
    "land = (input('Skriv inn landet:' ))\n",
    "if land in data:\n",
    "    capital, population = data.get(land)\n",
    "    print(f\"{capital} er hovedstaden i {land} og det er {population} mill. innbyggere i {capital}\")\n",
    "else: \n",
    "    print(\"Landet er ikke i lista\")\n",
    "    nytt_land_capital = (input('Skriv inn hovedstad for landet:' ))\n",
    "    nytt_land_population = (input('Skriv inn innbyggere i hovedstaden:' ))\n",
    "    data[land] = (nytt_land_capital, nytt_land_population)\n",
    "    print(data)"
   ]
  },
  {
   "cell_type": "markdown",
   "id": "10ec6bfa-8205-41f6-a8b1-d82854b4d8db",
   "metadata": {},
   "source": [
    "Oppg 5) Lag et program med en funksjon som tar a og b som inn-argumenter og som så\n",
    "regner ut arealet og «ytre» omkrets til en figur satt sammen av en rettvinklet trekant og en\n",
    "halvsirkel, se figuren under. Med «ytre» omkrets menes samlet lengde av de sorte strekene.\n",
    "Funksjonen skal returnere arealet og «ytre» omkrets, som så skrives til skjerm med passende\n",
    "tekst.\n"
   ]
  },
  {
   "cell_type": "code",
   "execution_count": 56,
   "id": "e3eadb96-ce7e-4d10-b5a0-55b6e9b23ba0",
   "metadata": {},
   "outputs": [
    {
     "name": "stdout",
     "output_type": "stream",
     "text": [
      "1.5707963267948966\n",
      "3.0\n",
      "3.141592653589793\n",
      "6.60555127546399\n",
      "4.570796326794897  er arealet av figuren og 9.747143929053783  er omkretsen\n"
     ]
    }
   ],
   "source": [
    "import numpy as np\n",
    "import math\n",
    "def areal(a, b):\n",
    "    Asirkel = (np.pi*((a/2)**2))/2\n",
    "    Atrekant = (a*b)/2\n",
    "    Atotal = Asirkel + Atrekant\n",
    "    Osirkel = (2* np.pi * (a/2))/2\n",
    "    Otrekant = math.hypot(b, a) + b\n",
    "    Ototal = Osirkel + Otrekant\n",
    "    print(Atotal,\" er arealet av figuren og\", Ototal,\" er omkretsen\")\n",
    "\n",
    "areal(2,3)"
   ]
  },
  {
   "cell_type": "markdown",
   "id": "5c8e14c2-a14c-438c-884f-6cd89c3aea02",
   "metadata": {},
   "source": [
    "Oppg 6) Skriv en kode som plotter funksjonen 𝑓(𝑥) = −𝑥2 − 5, for x på intervallet [-10,10].\n",
    "Hint: np.linspace(-10, 10, 200) gir en array med 200 punkter jevnt fordelt på intervallet\n",
    "[-10,10]."
   ]
  },
  {
   "cell_type": "code",
   "execution_count": 60,
   "id": "b5143a64-48ca-4944-91ce-69a14f812372",
   "metadata": {},
   "outputs": [
    {
     "data": {
      "image/png": "[encoded data removed]",
      "text/plain": [
       "<Figure size 640x480 with 1 Axes>"
      ]
     },
     "metadata": {},
     "output_type": "display_data"
    }
   ],
   "source": [
    "import matplotlib.pyplot as plt \n",
    "import numpy as np\n",
    "\n",
    "def f(x):\n",
    "    y = (-(𝑥**2)  -5)\n",
    "    return y\n",
    "\n",
    "xa = np.linspace ( -10 , 10 , 200)\n",
    "plt.close ( 'all ')\n",
    "plt.title('plotting -X**2 -5')\n",
    "plt.xlabel('x')\n",
    "plt.plot ( xa , f(xa))\n",
    "plt.legend (labels =('f(x)'))\n",
    "plt.grid(True)\n",
    "plt.show ()"
   ]
  },
  {
   "cell_type": "code",
   "execution_count": null,
   "id": "a455a241-19e1-4d1f-b194-bb7a198d40b1",
   "metadata": {},
   "outputs": [],
   "source": []
  }
 ],
 "metadata": {
  "kernelspec": {
   "display_name": "Python 3 (ipykernel)",
   "language": "python",
   "name": "python3"
  },
  "language_info": {
   "codemirror_mode": {
    "name": "ipython",
    "version": 3
   },
   "file_extension": ".py",
   "mimetype": "text/x-python",
   "name": "python",
   "nbconvert_exporter": "python",
   "pygments_lexer": "ipython3",
   "version": "3.12.4"
  }
 },
 "nbformat": 4,
 "nbformat_minor": 5
}
